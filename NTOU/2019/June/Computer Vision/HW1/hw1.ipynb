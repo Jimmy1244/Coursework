{
 "cells": [
  {
   "cell_type": "code",
   "execution_count": 4,
   "metadata": {},
   "outputs": [
    {
     "name": "stdout",
     "output_type": "stream",
     "text": [
      "height:540 width:960\n"
     ]
    },
    {
     "data": {
      "text/plain": [
       "array([29, 61, 93], dtype=uint8)"
      ]
     },
     "execution_count": 4,
     "metadata": {},
     "output_type": "execute_result"
    }
   ],
   "source": [
    "import cv2\n",
    "\n",
    "cap    = cv2.VideoCapture('./hw1_test.avi')\n",
    "print('height:{} width:{}'.format(int(cap.get(cv2.CAP_PROP_FRAME_HEIGHT)),int(cap.get(cv2.CAP_PROP_FRAME_WIDTH))))\n",
    "frame_num = 0\n",
    "total_frame=int(cap.get(cv2.CAP_PROP_FRAME_COUNT))\n",
    "\n",
    "\n",
    "def set_frame_number(x):\n",
    "    global frame_num\n",
    "    frame_num = x\n",
    "    return\n",
    "\n",
    "cv2.namedWindow('video file')\n",
    "cv2.createTrackbar('frame no.','video file',0,total_frame-1,set_frame_number)\n",
    "\n",
    "while frame_num < total_frame:\n",
    "    cv2.setTrackbarPos('frame no.','video file',frame_num)\n",
    "    cap.set(cv2.CAP_PROP_POS_FRAMES,frame_num)\n",
    "    ret, frame = cap.read()\n",
    "    if ret==False:\n",
    "        break\n",
    "    cv2.imshow('video file',frame)\n",
    "    key = cv2.waitKey(20) #& 0xFF\n",
    "    if key == 27:\n",
    "        break\n",
    "    frame_num += 1\n",
    "    \n",
    "cap.release()\n",
    "cv2.destroyAllWindows()"
   ]
  },
  {
   "cell_type": "code",
   "execution_count": 90,
   "metadata": {},
   "outputs": [
    {
     "name": "stdout",
     "output_type": "stream",
     "text": [
      "height:540 width:960\n"
     ]
    }
   ],
   "source": [
    "#二值化\n",
    "import cv2\n",
    "\n",
    "cap    = cv2.VideoCapture('./hw1_test.avi')\n",
    "print('height:{} width:{}'.format(int(cap.get(cv2.CAP_PROP_FRAME_HEIGHT)),int(cap.get(cv2.CAP_PROP_FRAME_WIDTH))))\n",
    "frame_num = 0\n",
    "total_frame=int(cap.get(cv2.CAP_PROP_FRAME_COUNT))\n",
    "\n",
    "\n",
    "def set_frame_number(x):\n",
    "    global frame_num\n",
    "    frame_num = x\n",
    "    return\n",
    "\n",
    "cv2.namedWindow('video file')\n",
    "cv2.createTrackbar('frame no.','video file',0,total_frame-1,set_frame_number)\n",
    "\n",
    "while frame_num < total_frame:\n",
    "    cv2.setTrackbarPos('frame no.','video file',frame_num)\n",
    "    cap.set(cv2.CAP_PROP_POS_FRAMES,frame_num)\n",
    "    ret, frame = cap.read()\n",
    "    gray = cv2.cvtColor(frame,cv2.COLOR_BGR2GRAY)\n",
    "    biframe = cv2.adaptiveThreshold(gray, 255, cv2.ADAPTIVE_THRESH_MEAN_C, cv2.THRESH_BINARY, 163, 8)\n",
    "    if ret==False:\n",
    "        break\n",
    "    cv2.imshow('video file',biframe)\n",
    "    key = cv2.waitKey(20) #& 0xFF\n",
    "    if key == 27:\n",
    "        break\n",
    "    frame_num += 1\n",
    "    \n",
    "cap.release()\n",
    "cv2.destroyAllWindows()"
   ]
  },
  {
   "cell_type": "code",
   "execution_count": 4,
   "metadata": {},
   "outputs": [
    {
     "name": "stdout",
     "output_type": "stream",
     "text": [
      "height:540 width:960\n"
     ]
    }
   ],
   "source": [
    "#背景減掉\n",
    "import cv2\n",
    "\n",
    "cap    = cv2.VideoCapture('./hw1_test.avi')\n",
    "\n",
    "fgbg = cv2.createBackgroundSubtractorMOG2()\n",
    "print('height:{} width:{}'.format(int(cap.get(cv2.CAP_PROP_FRAME_HEIGHT)),int(cap.get(cv2.CAP_PROP_FRAME_WIDTH))))\n",
    "frame_num = 0\n",
    "total_frame=int(cap.get(cv2.CAP_PROP_FRAME_COUNT))\n",
    "\n",
    "\n",
    "def set_frame_number(x):\n",
    "    global frame_num\n",
    "    frame_num = x\n",
    "    return\n",
    "\n",
    "cv2.namedWindow('video file')\n",
    "cv2.createTrackbar('frame no.','video file',0,total_frame-1,set_frame_number)\n",
    "\n",
    "while frame_num < total_frame:\n",
    "    cv2.setTrackbarPos('frame no.','video file',frame_num)\n",
    "    cap.set(cv2.CAP_PROP_POS_FRAMES,frame_num)\n",
    "    ret, frame = cap.read()\n",
    "    gbg = fgbg.apply(frame)\n",
    "    if ret==False:\n",
    "        break\n",
    "    cv2.imshow('video file',gbg)\n",
    "    key = cv2.waitKey(20) #& 0xFF\n",
    "    if key == 27:\n",
    "        break\n",
    "    frame_num += 1\n",
    "    \n",
    "cap.release()\n",
    "cv2.destroyAllWindows()"
   ]
  },
  {
   "cell_type": "code",
   "execution_count": 16,
   "metadata": {},
   "outputs": [
    {
     "name": "stdout",
     "output_type": "stream",
     "text": [
      "height:540 width:960\n"
     ]
    }
   ],
   "source": [
    "#長出框框\n",
    "import cv2\n",
    "import random\n",
    "\n",
    "cap    = cv2.VideoCapture('./hw1_test.avi')\n",
    "\n",
    "fgbg = cv2.createBackgroundSubtractorMOG2()\n",
    "print('height:{} width:{}'.format(int(cap.get(cv2.CAP_PROP_FRAME_HEIGHT)),int(cap.get(cv2.CAP_PROP_FRAME_WIDTH))))\n",
    "frame_num = 0\n",
    "total_frame=int(cap.get(cv2.CAP_PROP_FRAME_COUNT))\n",
    "\n",
    "def draw_rectangular(img, n, total, height, width):\n",
    "    ratio = n/total\n",
    "    if ratio < 0.5:\n",
    "        h = int(ratio*height)*2;\n",
    "        w = int(ratio*width)*2;\n",
    "        color1 = int(random.random() * 256)\n",
    "        color2 = int(random.random() * 256)\n",
    "        color3 = int(random.random() * 256)\n",
    "        img[0:h,0:w] = [color1, color2, color3]\n",
    "    else:\n",
    "        color1 = int(random.random() * 256)\n",
    "        color2 = int(random.random() * 256)\n",
    "        color3 = int(random.random() * 256)\n",
    "        ratio = ratio - 0.5\n",
    "        h = int(ratio*height)*2;\n",
    "        w = int(ratio*width)*2;\n",
    "        img[h:height, w:width] = [color1, color2, color3]\n",
    "    return img\n",
    "\n",
    "def set_frame_number(x):\n",
    "    global frame_num\n",
    "    frame_num = x\n",
    "    return\n",
    "\n",
    "cv2.namedWindow('video file')\n",
    "cv2.createTrackbar('frame no.','video file',0,total_frame-1,set_frame_number)\n",
    "\n",
    "while frame_num < total_frame:\n",
    "    cv2.setTrackbarPos('frame no.','video file',frame_num)\n",
    "    cap.set(cv2.CAP_PROP_POS_FRAMES,frame_num)\n",
    "    ret, frame = cap.read()\n",
    "    addRectangular = draw_rectangular(frame, frame_num, total_frame, int(cap.get(cv2.CAP_PROP_FRAME_HEIGHT)), int(cap.get(cv2.CAP_PROP_FRAME_WIDTH)))\n",
    "    if ret==False:\n",
    "        break\n",
    "    cv2.imshow('video file',addRectangular)\n",
    "    key = cv2.waitKey(20) #& 0xFF\n",
    "    if key == 27:\n",
    "        break\n",
    "    frame_num += 1\n",
    "    \n",
    "cap.release()\n",
    "cv2.destroyAllWindows()"
   ]
  },
  {
   "cell_type": "code",
   "execution_count": 2,
   "metadata": {},
   "outputs": [
    {
     "name": "stdout",
     "output_type": "stream",
     "text": [
      "height:1080 width:1920\n"
     ]
    }
   ],
   "source": [
    "import cv2\n",
    "import numpy as np\n",
    "import random\n",
    "\n",
    "fgbg = cv2.createBackgroundSubtractorMOG2()\n",
    "cap    = cv2.VideoCapture('./hw1_test.avi')\n",
    "frameHeight = int(cap.get(cv2.CAP_PROP_FRAME_HEIGHT));\n",
    "frameWidth = int(cap.get(cv2.CAP_PROP_FRAME_WIDTH));\n",
    "out = cv2.VideoWriter('./hw1.avi',cv2.VideoWriter_fourcc(*'XVID'), 20.0, \n",
    "                            (frameWidth*2,frameHeight*2))\n",
    "print('height:{} width:{}'.format(frameHeight * 2,frameWidth * 2))\n",
    "frame_num = 0\n",
    "total_frame=int(cap.get(cv2.CAP_PROP_FRAME_COUNT))\n",
    "\n",
    "def draw_rectangular(img, n, total, height, width): #當前的影像,當前幀數,總幀數,影像高度,影像寬度\n",
    "    color1 = int(random.random() * 256)\n",
    "    color2 = int(random.random() * 256)\n",
    "    color3 = int(random.random() * 256) #BGR顏色random\n",
    "    ratio = n/total #算出目前的幀數與總幀數的比例\n",
    "    if ratio < 0.5: #影片到一半的時候矩形全滿\n",
    "        h = int(ratio*height)*2;\n",
    "        w = int(ratio*width)*2;\n",
    "        img[0:h,0:w] = [color1, color2, color3]\n",
    "    else: #影片超過一半的時候，矩形從左上開始變小\n",
    "        ratio = ratio - 0.5\n",
    "        h = int(ratio*height)*2;\n",
    "        w = int(ratio*width)*2;\n",
    "        img[h:height, w:width] = [color1, color2, color3]\n",
    "    return img\n",
    "\n",
    "\n",
    "def set_frame_number(x):\n",
    "    global frame_num\n",
    "    frame_num = x\n",
    "    return\n",
    "\n",
    "cv2.namedWindow('video file')\n",
    "cv2.createTrackbar('frame no.','video file',0,total_frame-1,set_frame_number)\n",
    "\n",
    "while frame_num < total_frame:\n",
    "    cv2.setTrackbarPos('frame no.','video file',frame_num)\n",
    "    cap.set(cv2.CAP_PROP_POS_FRAMES,frame_num)\n",
    "    ret, frame = cap.read()\n",
    "    \n",
    "    \n",
    "    frameFull = np.zeros((frameHeight*2,frameWidth*2,3),dtype=np.uint8)\n",
    "    frameFull[0:frameHeight, 0:frameWidth, :] = frame\n",
    "    cv2.putText(frameFull, \"Origin\", (0, 25), cv2.FONT_HERSHEY_SIMPLEX, 0.8, (0, 0, 255), 2, cv2.LINE_AA)\n",
    "    \n",
    "    gray = cv2.cvtColor(frame,cv2.COLOR_BGR2GRAY) #frame為cap.read()的到的影像\n",
    "    #要先轉成灰階影像才能二值化\n",
    "    biframe = cv2.adaptiveThreshold(gray, 255, cv2.ADAPTIVE_THRESH_MEAN_C, cv2.THRESH_BINARY, 163, 8)\n",
    "    #最後兩個參數為 blockSize=163, threshold = mean - 8\n",
    "    frameFull[0:frameHeight, frameWidth:, 0] = biframe\n",
    "    frameFull[0:frameHeight, frameWidth:, 1] = biframe\n",
    "    frameFull[0:frameHeight, frameWidth:, 2] = biframe ##biframe剩下一個channel 所以輸出BGR的時候三個都要填\n",
    "    cv2.putText(frameFull, \"AdaptiveThreshold\", (frameWidth, 25), cv2.FONT_HERSHEY_SIMPLEX, 0.8, (0, 0, 255), 2, cv2.LINE_AA)\n",
    "    \n",
    "    gbg = fgbg.apply(frame) #fgbg = cv2.createBackgroundSubtractorMOG2()  ##cv2的此方法不能調參數\n",
    "    frameFull[frameHeight:, 0:frameWidth, 0] = gbg\n",
    "    frameFull[frameHeight:, 0:frameWidth, 1] = gbg\n",
    "    frameFull[frameHeight:, 0:frameWidth, 2] = gbg ##最後也會二值化，所以剩下一個channel，BGR都要填值\n",
    "    cv2.putText(frameFull, \"BackgroundSubtractorMOG2\", (0, frameHeight + 25), cv2.FONT_HERSHEY_SIMPLEX, 0.8, (0, 0, 255), 2, cv2.LINE_AA)\n",
    "    \n",
    "    addRectangular = draw_rectangular(frame, frame_num, total_frame, frameHeight, frameWidth)\n",
    "    frameFull[frameHeight:, frameWidth:, :] = addRectangular\n",
    "    cv2.putText(frameFull, \"WeirdRectangular\", (frameWidth, frameHeight + 25), cv2.FONT_HERSHEY_SIMPLEX, 0.8, (0, 0, 255), 2, cv2.LINE_AA)\n",
    "    \n",
    "    if ret==False:\n",
    "        break\n",
    "    out.write(frameFull)\n",
    "    #cv2.imshow('video file',frameFull)\n",
    "    key = cv2.waitKey(1) #& 0xFF\n",
    "    if key == 27:\n",
    "        break\n",
    "    frame_num += 1\n",
    "    \n",
    "cap.release()\n",
    "out.release()\n",
    "cv2.destroyAllWindows()"
   ]
  }
 ],
 "metadata": {
  "kernelspec": {
   "display_name": "Python 3",
   "language": "python",
   "name": "python3"
  },
  "language_info": {
   "codemirror_mode": {
    "name": "ipython",
    "version": 3
   },
   "file_extension": ".py",
   "mimetype": "text/x-python",
   "name": "python",
   "nbconvert_exporter": "python",
   "pygments_lexer": "ipython3",
   "version": "3.6.8"
  }
 },
 "nbformat": 4,
 "nbformat_minor": 2
}
